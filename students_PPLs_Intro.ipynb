{
  "nbformat": 4,
  "nbformat_minor": 0,
  "metadata": {
    "colab": {
      "name": "students_PPLs_Intro.ipynb",
      "version": "0.3.2",
      "provenance": [],
      "collapsed_sections": [
        "5xZItW78SGk9"
      ],
      "include_colab_link": true
    },
    "language_info": {
      "codemirror_mode": {
        "name": "ipython",
        "version": 3
      },
      "file_extension": ".py",
      "mimetype": "text/x-python",
      "name": "python",
      "nbconvert_exporter": "python",
      "pygments_lexer": "ipython3",
      "version": "3.7.0"
    },
    "kernelspec": {
      "display_name": "probabilistic.ai",
      "language": "python",
      "name": "probabilistic.ai"
    }
  },
  "cells": [
    {
      "cell_type": "markdown",
      "metadata": {
        "id": "view-in-github",
        "colab_type": "text"
      },
      "source": [
        "<a href=\"https://colab.research.google.com/github/Askinkaty/probabilisticAI_tutorials/blob/master/students_PPLs_Intro.ipynb\" target=\"_parent\"><img src=\"https://colab.research.google.com/assets/colab-badge.svg\" alt=\"Open In Colab\"/></a>"
      ]
    },
    {
      "cell_type": "code",
      "metadata": {
        "id": "MEpDrmrvSGjS",
        "colab_type": "code",
        "colab": {}
      },
      "source": [
        "import pyro\n",
        "import torch\n",
        "import pyro.distributions as dist"
      ],
      "execution_count": 0,
      "outputs": []
    },
    {
      "cell_type": "code",
      "metadata": {
        "id": "Vmp9ttmZSyht",
        "colab_type": "code",
        "colab": {
          "base_uri": "https://localhost:8080/",
          "height": 104
        },
        "outputId": "10cfe61e-78ea-4fc3-c0e6-26324b6d145f"
      },
      "source": [
        "!pip install -q --upgrade pyro-ppl torch\n"
      ],
      "execution_count": 3,
      "outputs": [
        {
          "output_type": "stream",
          "text": [
            "\u001b[K     |████████████████████████████████| 235kB 2.8MB/s \n",
            "\u001b[K     |████████████████████████████████| 61kB 19.6MB/s \n",
            "\u001b[K     |████████████████████████████████| 51kB 18.4MB/s \n",
            "\u001b[?25h  Building wheel for pyro-ppl (setup.py) ... \u001b[?25l\u001b[?25hdone\n",
            "  Building wheel for opt-einsum (setup.py) ... \u001b[?25l\u001b[?25hdone\n"
          ],
          "name": "stdout"
        }
      ]
    },
    {
      "cell_type": "markdown",
      "metadata": {
        "id": "npXfK000SGjR",
        "colab_type": "text"
      },
      "source": [
        "# Setup\n",
        "Let's begin by importing the modules we'll need."
      ]
    },
    {
      "cell_type": "markdown",
      "metadata": {
        "id": "rGvnPBogSGjV",
        "colab_type": "text"
      },
      "source": [
        "# 1. Pyro’s distributions (http://docs.pyro.ai/en/stable/distributions.html) :\n",
        "\n",
        "Pyro provides a wide range of distributions: Normal, Beta, Cauchy, Dirichlet, Gumbel, Poisson,\n",
        "Pareto, etc.\n"
      ]
    },
    {
      "cell_type": "code",
      "metadata": {
        "id": "qXeCYytuSGjW",
        "colab_type": "code",
        "colab": {
          "base_uri": "https://localhost:8080/",
          "height": 35
        },
        "outputId": "418a3339-b79f-4bc0-9dd5-841809cb6420"
      },
      "source": [
        "normal = dist.Normal(0,1)\n",
        "normal"
      ],
      "execution_count": 5,
      "outputs": [
        {
          "output_type": "execute_result",
          "data": {
            "text/plain": [
              "Normal(loc: 0.0, scale: 1.0)"
            ]
          },
          "metadata": {
            "tags": []
          },
          "execution_count": 5
        }
      ]
    },
    {
      "cell_type": "markdown",
      "metadata": {
        "id": "7WespfmkSGja",
        "colab_type": "text"
      },
      "source": [
        "Samples from the distributions are [Pytorch’s Tensor objects](https://pytorch.org/cppdocs/notes/tensor_creation.html) (i.e. multidimensional arrays).\n"
      ]
    },
    {
      "cell_type": "code",
      "metadata": {
        "id": "JVhz8c95SGjb",
        "colab_type": "code",
        "colab": {
          "base_uri": "https://localhost:8080/",
          "height": 35
        },
        "outputId": "1fc38d3c-84e3-4041-c5f9-4b89595eef6e"
      },
      "source": [
        "sample = normal.sample()\n",
        "sample"
      ],
      "execution_count": 16,
      "outputs": [
        {
          "output_type": "execute_result",
          "data": {
            "text/plain": [
              "tensor(-0.1892)"
            ]
          },
          "metadata": {
            "tags": []
          },
          "execution_count": 16
        }
      ]
    },
    {
      "cell_type": "code",
      "metadata": {
        "id": "dwKk6GnKSGje",
        "colab_type": "code",
        "colab": {
          "base_uri": "https://localhost:8080/",
          "height": 259
        },
        "outputId": "962407e2-0734-429f-cacf-3e9ed26f56c8"
      },
      "source": [
        "sample = normal.sample(sample_shape=[3,4,5])\n",
        "sample"
      ],
      "execution_count": 17,
      "outputs": [
        {
          "output_type": "execute_result",
          "data": {
            "text/plain": [
              "tensor([[[ 4.6760e-01, -2.1693e-01,  1.0994e-01, -2.0869e+00, -1.6418e+00],\n",
              "         [-3.5068e-04,  9.5291e-01,  8.1465e-01,  6.3517e-01,  8.6193e-01],\n",
              "         [ 8.7856e-01, -4.1508e-01,  2.9722e-01, -1.2258e+00, -4.7092e-01],\n",
              "         [-1.3897e+00,  2.0651e+00,  7.8246e-01,  3.0836e-01,  4.6270e-01]],\n",
              "\n",
              "        [[ 7.8747e-01,  5.5045e-01, -2.4558e+00,  4.0671e-01, -1.6963e+00],\n",
              "         [-9.5018e-02, -6.3353e-01, -1.2968e+00,  1.1227e+00,  3.4307e-01],\n",
              "         [-1.4356e+00, -7.1675e-01, -1.0965e+00, -2.9222e-01,  2.7887e-01],\n",
              "         [-6.3062e-01, -4.4774e-01,  1.0795e+00, -1.8814e+00,  1.4373e-01]],\n",
              "\n",
              "        [[ 5.9040e-01,  2.5106e+00,  6.1694e-01,  2.1690e-01,  3.6955e-01],\n",
              "         [-2.2385e+00,  4.7222e-01, -5.0733e-01, -2.5545e+00,  7.7830e-02],\n",
              "         [-5.4524e-01, -9.6516e-02,  8.9057e-01, -1.8193e+00,  4.4354e-01],\n",
              "         [ 4.4406e-01,  4.6856e-01, -1.4952e-01,  1.6059e+00,  1.6319e+00]]])"
            ]
          },
          "metadata": {
            "tags": []
          },
          "execution_count": 17
        }
      ]
    },
    {
      "cell_type": "markdown",
      "metadata": {
        "id": "3lRnRGSISGjg",
        "colab_type": "text"
      },
      "source": [
        "We can query the dimensionlity of a tensor with the ``shape`` property"
      ]
    },
    {
      "cell_type": "code",
      "metadata": {
        "id": "NQU16IzXSGjh",
        "colab_type": "code",
        "colab": {
          "base_uri": "https://localhost:8080/",
          "height": 35
        },
        "outputId": "a744d665-b817-4e2e-c9a5-122cc117beaf"
      },
      "source": [
        "sample = normal.sample(sample_shape=[3,4,5])\n",
        "sample.shape"
      ],
      "execution_count": 18,
      "outputs": [
        {
          "output_type": "execute_result",
          "data": {
            "text/plain": [
              "torch.Size([3, 4, 5])"
            ]
          },
          "metadata": {
            "tags": []
          },
          "execution_count": 18
        }
      ]
    },
    {
      "cell_type": "markdown",
      "metadata": {
        "id": "Rqsaf5bhSGjk",
        "colab_type": "text"
      },
      "source": [
        "Operations, like log-likelihood, are defined over tensors."
      ]
    },
    {
      "cell_type": "code",
      "metadata": {
        "id": "OhhwRu-FSGjk",
        "colab_type": "code",
        "colab": {
          "base_uri": "https://localhost:8080/",
          "height": 259
        },
        "outputId": "0daf491d-ed18-43f0-de04-077060991d12"
      },
      "source": [
        "normal.log_prob(sample)"
      ],
      "execution_count": 19,
      "outputs": [
        {
          "output_type": "execute_result",
          "data": {
            "text/plain": [
              "tensor([[[-0.9866, -0.9220, -2.0924, -1.0565, -0.9288],\n",
              "         [-1.0291, -1.0747, -1.4609, -3.1314, -0.9206],\n",
              "         [-1.0760, -1.1569, -1.4380, -0.9347, -0.9192],\n",
              "         [-1.8718, -1.6608, -0.9444, -1.1930, -1.3436]],\n",
              "\n",
              "        [[-1.0031, -1.1480, -1.9014, -3.9710, -1.4804],\n",
              "         [-0.9232, -0.9877, -1.2063, -1.0585, -1.9131],\n",
              "         [-1.1912, -1.2785, -0.9663, -4.0512, -0.9345],\n",
              "         [-1.0146, -1.5475, -0.9251, -1.0507, -0.9199]],\n",
              "\n",
              "        [[-1.2130, -2.6406, -1.8373, -1.3672, -0.9351],\n",
              "         [-1.0168, -1.3150, -0.9601, -1.0541, -2.2833],\n",
              "         [-2.7083, -0.9670, -1.0402, -1.2158, -1.2642],\n",
              "         [-1.4474, -1.4601, -1.2250, -1.7792, -1.0785]]])"
            ]
          },
          "metadata": {
            "tags": []
          },
          "execution_count": 19
        }
      ]
    },
    {
      "cell_type": "code",
      "metadata": {
        "id": "5fLWfoF1SGjn",
        "colab_type": "code",
        "colab": {
          "base_uri": "https://localhost:8080/",
          "height": 35
        },
        "outputId": "bf5881bb-5af3-4175-a903-ed591cd53461"
      },
      "source": [
        "torch.sum(normal.log_prob(sample))"
      ],
      "execution_count": 20,
      "outputs": [
        {
          "output_type": "execute_result",
          "data": {
            "text/plain": [
              "tensor(-84.4215)"
            ]
          },
          "metadata": {
            "tags": []
          },
          "execution_count": 20
        }
      ]
    },
    {
      "cell_type": "markdown",
      "metadata": {
        "id": "-CobMdAKSGjq",
        "colab_type": "text"
      },
      "source": [
        "Multiple distributions can be embedded in single object, as shown in this example, where three Normal distributions with different means and same scale are defined in a single object."
      ]
    },
    {
      "cell_type": "code",
      "metadata": {
        "id": "fHRD_UiESGjr",
        "colab_type": "code",
        "colab": {
          "base_uri": "https://localhost:8080/",
          "height": 35
        },
        "outputId": "ecb42f34-2b03-4646-ed02-7694ff7c51ae"
      },
      "source": [
        "normal = dist.Normal(torch.tensor([1.,2.,3.]),1.)\n",
        "normal"
      ],
      "execution_count": 34,
      "outputs": [
        {
          "output_type": "execute_result",
          "data": {
            "text/plain": [
              "Normal(loc: torch.Size([3]), scale: torch.Size([3]))"
            ]
          },
          "metadata": {
            "tags": []
          },
          "execution_count": 34
        }
      ]
    },
    {
      "cell_type": "code",
      "metadata": {
        "id": "O3ItHEIcSGju",
        "colab_type": "code",
        "colab": {}
      },
      "source": [
        "normal.sample()"
      ],
      "execution_count": 0,
      "outputs": []
    },
    {
      "cell_type": "code",
      "metadata": {
        "id": "SW5Qdko-SGjw",
        "colab_type": "code",
        "colab": {
          "base_uri": "https://localhost:8080/",
          "height": 35
        },
        "outputId": "5ccf90df-6ec6-438c-afe7-99c01e0fb78f"
      },
      "source": [
        "normal.log_prob(normal.sample())"
      ],
      "execution_count": 36,
      "outputs": [
        {
          "output_type": "execute_result",
          "data": {
            "text/plain": [
              "tensor([-0.9195, -0.9641, -0.9732])"
            ]
          },
          "metadata": {
            "tags": []
          },
          "execution_count": 36
        }
      ]
    },
    {
      "cell_type": "markdown",
      "metadata": {
        "id": "SPJ3aRAFSGjz",
        "colab_type": "text"
      },
      "source": [
        "# 2. Pyro’s model (http://pyro.ai/examples/intro_part_i.html) :\n",
        "\n",
        "\n",
        "* In Pyro, a probabilistic model is defined as a stochastic function (i.e. every time is run, it returns a new sample).\n",
        "\n",
        "* Each random variable is associated to a primitive stochastic function using the construct ``pyro.sample(...)``.\n",
        "\n",
        "\n",
        "\n",
        "### 2.1 A Temperature Model \n",
        "\n",
        "\n",
        "\n",
        "As initial running example, we consider the problem of modelling the temperature. We first start with a simple model where temperture is modeled using a random Normal variable."
      ]
    },
    {
      "cell_type": "code",
      "metadata": {
        "id": "0DYR9ybzSGj0",
        "colab_type": "code",
        "colab": {
          "base_uri": "https://localhost:8080/",
          "height": 52
        },
        "outputId": "85475293-79f7-4954-cf38-dadaa4840bbd"
      },
      "source": [
        "def model():\n",
        "    temp = pyro.sample('temp', dist.Normal(15.0, 2.0))\n",
        "    return temp\n",
        "\n",
        "print(model())\n",
        "print(model())"
      ],
      "execution_count": 39,
      "outputs": [
        {
          "output_type": "stream",
          "text": [
            "tensor(14.9172)\n",
            "tensor(15.5794)\n"
          ],
          "name": "stdout"
        }
      ]
    },
    {
      "cell_type": "markdown",
      "metadata": {
        "id": "Gb2MflufSGj3",
        "colab_type": "text"
      },
      "source": [
        "See how the model is a stochastic function which returns a different value everytime is invoked. "
      ]
    },
    {
      "cell_type": "markdown",
      "metadata": {
        "id": "vyaByUK9SGj3",
        "colab_type": "text"
      },
      "source": [
        "### 2.2 A Temperature-Sensor Model\n",
        "\n",
        "* In Pyro, an stochastic method is defined as a **composition of primitive stochastic functions**.\n",
        "\n",
        "In the following example, we introduce the presence of a sensor, which is the one which is giving observations about the real temperature. In this case, we assume the sensor provides unbiased measurments of the temperature (i.e. the mean of the sensor's readings are the real temperature) and the error of the sensor's measurements is known."
      ]
    },
    {
      "cell_type": "code",
      "metadata": {
        "id": "sTHKWUc8SGj4",
        "colab_type": "code",
        "colab": {
          "base_uri": "https://localhost:8080/",
          "height": 35
        },
        "outputId": "62679fae-7b7e-4bae-a45f-6aa75c1bff72"
      },
      "source": [
        "def model():\n",
        "    temp = pyro.sample('temp', dist.Normal(15.0, 2.0))\n",
        "    sensor = pyro.sample('sensor', dist.Normal(temp, 1.0))\n",
        "    return (temp, sensor)\n",
        "\n",
        "out1 = model()\n",
        "out1"
      ],
      "execution_count": 40,
      "outputs": [
        {
          "output_type": "execute_result",
          "data": {
            "text/plain": [
              "(tensor(13.5677), tensor(13.3155))"
            ]
          },
          "metadata": {
            "tags": []
          },
          "execution_count": 40
        }
      ]
    },
    {
      "cell_type": "markdown",
      "metadata": {
        "id": "Qq8CYLs_SGj7",
        "colab_type": "text"
      },
      "source": [
        "The above method defines a joint probability distribution:\n",
        "$$p(sensor, temp) = p(sensor|temp)p(temp)$$\n",
        "\n",
        "A graphical description of this model, in terms of probabilistic graphical models, would be as follows:\n",
        "\n",
        "<img src=\"slides/Figures/PGM-Tem-Sensor.png\" alt=\"Drawing\" style=\"width: 150px;\" >\n",
        "\n",
        "\n",
        "In this case, we have a simple dependency between the variables. But, as we are in a PPL, dependencies can be expressed in terms of complex deterministic functions (more examples later)."
      ]
    },
    {
      "cell_type": "markdown",
      "metadata": {
        "id": "LfuTAShaSGj8",
        "colab_type": "text"
      },
      "source": [
        "# 3. Pyro’s inference (http://pyro.ai/examples/intro_part_ii.html) :"
      ]
    },
    {
      "cell_type": "markdown",
      "metadata": {
        "id": "T_EaF7bOSGj9",
        "colab_type": "text"
      },
      "source": [
        "### Auxiliary inference functions (more details on Day 3)\n",
        "\n",
        "To make inference on Pyro, we will use a variational inference method, which performs gradient-based optimization to solve the inference problem. More details will be given on Day 3. "
      ]
    },
    {
      "cell_type": "code",
      "metadata": {
        "id": "E-xbHU20SGj9",
        "colab_type": "code",
        "colab": {}
      },
      "source": [
        "from torch.distributions import constraints\n",
        "from pyro.optim import SGD\n",
        "from pyro.infer import Trace_ELBO\n",
        "import matplotlib.pyplot as plt\n",
        "from pyro.contrib.autoguide import AutoDiagonalNormal\n",
        "\n",
        "\n",
        "def svi(temperature_model, guide, obs, num_steps = 5000, plot = False):\n",
        "    pyro.clear_param_store()\n",
        "    svi = pyro.infer.SVI(model=temperature_model,\n",
        "                         guide=guide,\n",
        "                         optim=SGD({\"lr\": 0.001, \"momentum\":0.1}),\n",
        "                         loss=Trace_ELBO())\n",
        "\n",
        "    losses, a,b  = [], [], []\n",
        "    \n",
        "    for t in range(num_steps):\n",
        "        losses.append(svi.step(obs))\n",
        "\n",
        "    if (plot):\n",
        "        plt.plot(losses)\n",
        "        plt.title(\"ELBO\")\n",
        "        plt.xlabel(\"step\")\n",
        "        plt.ylabel(\"loss\");\n",
        "        plt.show()"
      ],
      "execution_count": 0,
      "outputs": []
    },
    {
      "cell_type": "markdown",
      "metadata": {
        "id": "BxKqDP7vSGj_",
        "colab_type": "text"
      },
      "source": [
        "### 3.1  Conditioning on a single observation\n",
        "\n",
        "Now, we continue with the last model defined in section 2.2, and assume we have a sensor reading and we want to compute the posterior distribution over the real temperature. \n",
        "\n",
        "\n",
        "* When defining the model we can introduce observations in a random variable with the keyword ``obs=``.\n"
      ]
    },
    {
      "cell_type": "code",
      "metadata": {
        "id": "mCbvj1vRSGj_",
        "colab_type": "code",
        "colab": {}
      },
      "source": [
        "#The observatons   \n",
        "obs = {'sensor': torch.tensor(18.0)}\n",
        "\n",
        "def model(obs):\n",
        "    temp = pyro.sample('temp', dist.Normal(15.0, 2.0))\n",
        "    sensor = pyro.sample('sensor', dist.Normal(temp, 1.0), obs=obs['sensor'])"
      ],
      "execution_count": 0,
      "outputs": []
    },
    {
      "cell_type": "markdown",
      "metadata": {
        "id": "d-mnkR3uSGkB",
        "colab_type": "text"
      },
      "source": [
        "To make inference in Pyro over a given model we need to define a *guide*, this *guide* has the same signature than its counterpart model. And the guide must provide samples for those variables of the model which are not observed using again the ``pyro.sample`` construct. Guides are also parametrized using Pyro's parameters (``pyro.param``), so the variational inference algorithm will optimize these parameters. All of that will be explained in detail on Day 3."
      ]
    },
    {
      "cell_type": "code",
      "metadata": {
        "id": "y6Q_sSfrSGkC",
        "colab_type": "code",
        "colab": {}
      },
      "source": [
        "#The guide\n",
        "def guide(obs):\n",
        "    a = pyro.param(\"mean\", torch.tensor(0.0))\n",
        "    b = pyro.param(\"scale\", torch.tensor(1.), constraint=constraints.positive)\n",
        "    temp = pyro.sample('temp', dist.Normal(a, b))"
      ],
      "execution_count": 0,
      "outputs": []
    },
    {
      "cell_type": "markdown",
      "metadata": {
        "id": "xjbbBPTASGkE",
        "colab_type": "text"
      },
      "source": [
        "Now, we can perform inference making use the previously defined auxiliary functions, ``svi`` and ``guide``, and query the posterior probability distribution: \n",
        "\n",
        "\n",
        "$$p(temp | sensor=18)=\\frac{p(sensor=18|temp)p(temp)}{\\int p(sensor=18|temp)p(temp) dtemp}$$\n",
        "\n",
        "\n"
      ]
    },
    {
      "cell_type": "code",
      "metadata": {
        "id": "V7cw7hqKSGkF",
        "colab_type": "code",
        "colab": {
          "base_uri": "https://localhost:8080/",
          "height": 347
        },
        "outputId": "c7b3fd42-5feb-47f1-a79f-6453d6ae06be"
      },
      "source": [
        "#Run inference\n",
        "svi(model,guide,obs, plot=True)\n",
        "\n",
        "#Print results\n",
        "print(\"P(Temperature|Sensor=18.0) = \")\n",
        "print(dist.Normal(pyro.param(\"mean\").item(), pyro.param(\"scale\").item()))\n",
        "print(\"\")"
      ],
      "execution_count": 45,
      "outputs": [
        {
          "output_type": "display_data",
          "data": {
            "image/png": "[encoded data removed]",
            "text/plain": [
              "<Figure size 432x288 with 1 Axes>"
            ]
          },
          "metadata": {
            "tags": []
          }
        },
        {
          "output_type": "stream",
          "text": [
            "P(Temperature|Sensor=18.0) = \n",
            "Normal(loc: 17.363908767700195, scale: 0.9273722171783447)\n",
            "\n"
          ],
          "name": "stdout"
        }
      ]
    },
    {
      "cell_type": "markdown",
      "metadata": {
        "id": "bU4qXB4YSGkH",
        "colab_type": "text"
      },
      "source": [
        "Above we can see the result of the inference, and also how the ELBO function is minimized during the variational inference process."
      ]
    },
    {
      "cell_type": "markdown",
      "metadata": {
        "id": "Jc9G4bjPSGkH",
        "colab_type": "text"
      },
      "source": [
        "### 3.2  Learning from a bunch of observations\n",
        "\n",
        "In this case, we assume we have a bunch of observations about the temperature at different time steps. In this case, following a probabilistic modelling approach, we define a bunch of random variables, one for each observation, using a standard ``for-loop``."
      ]
    },
    {
      "cell_type": "code",
      "metadata": {
        "id": "C1AJd32eSGkI",
        "colab_type": "code",
        "colab": {}
      },
      "source": [
        "#The observatons   \n",
        "obs = {'sensor': torch.tensor([18., 18.7, 19.2, 17.8, 20.3, 22.4, 20.3, 21.2, 19.5, 20.1])}\n",
        "\n",
        "def model(obs):\n",
        "    for i in range(obs['sensor'].shape[0]):\n",
        "        temp = pyro.sample(f'temp_{i}', dist.Normal(15.0, 2.0))\n",
        "        sensor = pyro.sample(f'sensor_{i}', dist.Normal(temp, 1.0), obs=obs['sensor'][i])"
      ],
      "execution_count": 0,
      "outputs": []
    },
    {
      "cell_type": "markdown",
      "metadata": {
        "id": "JvbXn60kSGkL",
        "colab_type": "text"
      },
      "source": [
        "On the other side, we are not sure about the mean temperature and we want to infer it from the data. For doing that we can follow a *maximum likelihood* approach,\n",
        "\n",
        "$$ \\mu_{t} = \\arg\\max_\\mu \\ln p(s_1,\\ldots,s_n|\\mu) = \\arg\\max_\\mu \\prod_i \\int_{t_i} p(s_i|t_i)p(t_i|\\mu) dt_i $$\n",
        "where $s_i$ denotes the sensor readings, $t_i$ is the real temperature at time $i$. \n",
        "\n",
        "However, with PPLs, we do not have to care about the underlying inference problem. We just define the model and let the PPL's engine make the work for us. So the model is defined as follows, using Pyro's parameters (defined as ``pyro.param``), which are free variables we can optimize. "
      ]
    },
    {
      "cell_type": "code",
      "metadata": {
        "id": "Y63glRjGSGkM",
        "colab_type": "code",
        "colab": {}
      },
      "source": [
        "#The observatons   \n",
        "obs = {'sensor': torch.tensor([18., 18.7, 19.2, 17.8, 20.3, 22.4, 20.3, 21.2, 19.5, 20.1])}\n",
        "\n",
        "def model(obs):\n",
        "    mean_temp = pyro.param('mean_temp', torch.tensor(15.0))\n",
        "    for i in range(obs['sensor'].shape[0]):\n",
        "        temp = pyro.sample(f'temp_{i}', dist.Normal(mean_temp, 2.0))\n",
        "        sensor = pyro.sample(f'sensor_{i}', dist.Normal(temp, 1.0), obs=obs['sensor'][i])"
      ],
      "execution_count": 0,
      "outputs": []
    },
    {
      "cell_type": "code",
      "metadata": {
        "id": "oPYfG52zSGkX",
        "colab_type": "code",
        "colab": {}
      },
      "source": [
        "#Define the guide\n",
        "def guide(obs):\n",
        "    for i in range(obs['sensor'].shape[0]):\n",
        "        mean_i = pyro.param(f'mean_{i}', obs['sensor'][i])\n",
        "        scale_i = pyro.param(f'scale_{i}', torch.tensor(1.), constraint=constraints.positive)\n",
        "        temp = pyro.sample(f'temp_{i}', dist.Normal(mean_i, scale_i))"
      ],
      "execution_count": 0,
      "outputs": []
    },
    {
      "cell_type": "code",
      "metadata": {
        "id": "M_eY0keWSGkY",
        "colab_type": "code",
        "colab": {
          "base_uri": "https://localhost:8080/",
          "height": 52
        },
        "outputId": "ed5b2cfa-09fa-4181-d9b7-b4e37347676a"
      },
      "source": [
        "#Run inference\n",
        "svi(model, guide, obs, num_steps=1000)\n",
        "\n",
        "#Print results\n",
        "print(\"Estimated Mean Temperature\")\n",
        "print(pyro.param(\"mean_temp\").item())"
      ],
      "execution_count": 49,
      "outputs": [
        {
          "output_type": "stream",
          "text": [
            "Estimated Mean Temperature\n",
            "19.137052536010742\n"
          ],
          "name": "stdout"
        }
      ]
    },
    {
      "cell_type": "markdown",
      "metadata": {
        "id": "fFPB1AVeSGkb",
        "colab_type": "text"
      },
      "source": [
        "Instead of performing *maximum likelihood* learning, we can perform *Bayesian learning* and treat the unknown as a random variable."
      ]
    },
    {
      "cell_type": "code",
      "metadata": {
        "id": "ibWbNdjJSGkc",
        "colab_type": "code",
        "colab": {}
      },
      "source": [
        "#The observatons   \n",
        "obs = {'sensor': torch.tensor([18., 18.7, 19.2, 17.8, 20.3, 22.4, 20.3, 21.2, 19.5, 20.1])}\n",
        "\n",
        "def model(obs):\n",
        "    mean_temp = pyro.sample('mean_temp', dist.Normal(15.0, 2.0))\n",
        "    for i in range(obs['sensor'].shape[0]):\n",
        "        temp = pyro.sample(f'temp_{i}', dist.Normal(mean_temp, 2.0))\n",
        "        sensor = pyro.sample(f'sensor_{i}', dist.Normal(temp, 1.0), obs=obs['sensor'][i])"
      ],
      "execution_count": 0,
      "outputs": []
    },
    {
      "cell_type": "markdown",
      "metadata": {
        "id": "zZrazxBtSGke",
        "colab_type": "text"
      },
      "source": [
        "The above model can be graphically represented as follows:\n",
        "\n",
        "<img src=\"slides/Figures/PGM-Tem-Sensor2.png\" alt=\"Drawing\" style=\"width: 250px;\" >\n",
        "\n",
        "\n",
        "\n",
        "\n",
        "We perform inference over this model. "
      ]
    },
    {
      "cell_type": "code",
      "metadata": {
        "id": "JbOEa98rSGkg",
        "colab_type": "code",
        "colab": {}
      },
      "source": [
        "#Define the guide\n",
        "def guide(obs):\n",
        "    mean = pyro.param(\"mean\", torch.mean(obs['sensor']))\n",
        "    scale = pyro.param(\"scale\", torch.tensor(1.), constraint=constraints.positive)\n",
        "    mean_temp = pyro.sample('mean_temp', dist.Normal(mean, scale))\n",
        "    for i in range(obs['sensor'].shape[0]):\n",
        "        mean_i = pyro.param(f'mean_{i}', obs['sensor'][i])\n",
        "        scale_i = pyro.param(f'scale_{i}', torch.tensor(1.), constraint=constraints.positive)\n",
        "        temp = pyro.sample(f'temp_{i}', dist.Normal(mean_i, scale_i))"
      ],
      "execution_count": 0,
      "outputs": []
    },
    {
      "cell_type": "code",
      "metadata": {
        "id": "P0bGXvuASGki",
        "colab_type": "code",
        "colab": {
          "base_uri": "https://localhost:8080/",
          "height": 86
        },
        "outputId": "63f3b5c0-36ed-468c-fa09-b173e97322db"
      },
      "source": [
        "import time\n",
        "        \n",
        "#Run inference\n",
        "start = time.time()\n",
        "svi(model, guide, obs, num_steps=1000)\n",
        "\n",
        "#Print results\n",
        "print(\"P(mean_temp|Sensor=[18., 18.7, 19.2, 17.8, 20.3, 22.4, 20.3, 21.2, 19.5, 20.1]) =\")\n",
        "print(dist.Normal(pyro.param(\"mean\").item(), pyro.param(\"scale\").item()))\n",
        "print(\"\")\n",
        "end = time.time()\n",
        "print(f\"{(end - start)} seconds\")"
      ],
      "execution_count": 52,
      "outputs": [
        {
          "output_type": "stream",
          "text": [
            "P(mean_temp|Sensor=[18., 18.7, 19.2, 17.8, 20.3, 22.4, 20.3, 21.2, 19.5, 20.1]) =\n",
            "Normal(loc: 19.321155548095703, scale: 0.5827462673187256)\n",
            "\n",
            "10.70793104171753 seconds\n"
          ],
          "name": "stdout"
        }
      ]
    },
    {
      "cell_type": "markdown",
      "metadata": {
        "id": "FKtOwo0ySGkk",
        "colab_type": "text"
      },
      "source": [
        "Now, the result of the learning is not a *point estimate*, but a *posterior distribution* which captures uncertainty about the estimation."
      ]
    },
    {
      "cell_type": "code",
      "metadata": {
        "id": "ttsdl0amSGkm",
        "colab_type": "code",
        "colab": {
          "base_uri": "https://localhost:8080/",
          "height": 269
        },
        "outputId": "4707dd50-fbd4-4651-d94b-63863b764145"
      },
      "source": [
        "import numpy as np\n",
        "import scipy.stats as stats\n",
        "\n",
        "mu = 19.312837600708008\n",
        "scale = 0.6332376003265381\n",
        "x = np.linspace(mu - 3*scale, mu + 3*scale, 100)\n",
        "plt.plot(x, stats.norm.pdf(x, mu, scale), label='Posterior')\n",
        "point = 19.123859405517578\n",
        "plt.plot([point, point],[0., 1.], label='Point Estimate')\n",
        "plt.legend()\n",
        "plt.show()"
      ],
      "execution_count": 53,
      "outputs": [
        {
          "output_type": "display_data",
          "data": {
            "image/png": "[encoded data removed]",
            "text/plain": [
              "<Figure size 432x288 with 1 Axes>"
            ]
          },
          "metadata": {
            "tags": []
          }
        }
      ]
    },
    {
      "cell_type": "markdown",
      "metadata": {
        "id": "YlXgWpCsSGko",
        "colab_type": "text"
      },
      "source": [
        "### 3.3 The use of ``plate`` construct\n",
        "\n",
        "In this new example, we will tell Pyro how to exploit conditional independencies and vectorization to make inference much faster. This can be done with the construct ``palte``. With this construct we can indicate the variables $s_i$ and $t_i$ are conditionally indepdendent from another variables $s_j$ and $t_j$ given $\\mu_t$. \n",
        "\n"
      ]
    },
    {
      "cell_type": "code",
      "metadata": {
        "id": "1A5v79JhSGko",
        "colab_type": "code",
        "colab": {}
      },
      "source": [
        "#The observatons   \n",
        "obs = {'sensor': torch.tensor([18., 18.7, 19.2, 17.8, 20.3, 22.4, 20.3, 21.2, 19.5, 20.1])}\n",
        "\n",
        "def model(obs):\n",
        "    mean_temp = pyro.sample('mean_temp', dist.Normal(15.0, 2.0))\n",
        "    with pyro.plate('a', obs['sensor'].shape[0]):\n",
        "        temp = pyro.sample('temp', dist.Normal(mean_temp, 2.0))\n",
        "        sensor = pyro.sample('sensor', dist.Normal(temp, 1.0), obs=obs['sensor'])"
      ],
      "execution_count": 0,
      "outputs": []
    },
    {
      "cell_type": "markdown",
      "metadata": {
        "id": "hCkgpdi3SGkq",
        "colab_type": "text"
      },
      "source": [
        "The ``plate`` construct refers to the standard notation use in graphical models to denote the repetition of some parts of of the graph. In this way this Pyro model can be graphically represented as follows, \n",
        "\n",
        "<img src=\"slides/Figures/PGM-Tem-Sensor3.png\" alt=\"Drawing\" style=\"width: 250px;\" >\n",
        "\n",
        "Here we can also observe the distintion between **local** and **global** rando variables. The former caputures information which is specific about the $i$-th data sample (i.e. the real temperature at this moment in time), while the latter captures information which is common about all the data samples (i.e. the average temperature across all data samples). \n",
        "\n",
        "\n",
        "Observe how inference in this model is much faster. "
      ]
    },
    {
      "cell_type": "code",
      "metadata": {
        "id": "I8HjfFYISGkr",
        "colab_type": "code",
        "colab": {}
      },
      "source": [
        "#Define the guide\n",
        "def guide(obs_sensor):\n",
        "    mean = pyro.param(\"mean\", torch.mean(obs['sensor']))\n",
        "    scale = pyro.param(\"scale\", torch.tensor(1.), constraint=constraints.positive)\n",
        "    mean_temp = pyro.sample('mean_temp', dist.Normal(mean, scale))\n",
        "    with pyro.plate('a', obs['sensor'].shape[0]) as i:\n",
        "        mean_i = pyro.param('mean_i', obs['sensor'][i])\n",
        "        scale_i = pyro.param('scale_i', torch.tensor(1.), constraint=constraints.positive)\n",
        "        temp = pyro.sample('temp', dist.Normal(mean_i, scale_i))    "
      ],
      "execution_count": 0,
      "outputs": []
    },
    {
      "cell_type": "code",
      "metadata": {
        "id": "BIOt5QB3SGkt",
        "colab_type": "code",
        "colab": {
          "base_uri": "https://localhost:8080/",
          "height": 86
        },
        "outputId": "bc38a789-e2dd-470b-f43c-4596fe22710a"
      },
      "source": [
        "#Run inference\n",
        "start = time.time()\n",
        "svi(model, guide, obs, num_steps=1000)\n",
        "\n",
        "#Print results\n",
        "print(\"P(mean_temp|Sensor=[18., 18.7, 19.2, 17.8, 20.3, 22.4, 20.3, 21.2, 19.5, 20.1]) =\")\n",
        "print(dist.Normal(pyro.param(\"mean\").item(), pyro.param(\"scale\").item()))\n",
        "print(\"\")\n",
        "end = time.time()\n",
        "print(f\"{(end - start)} seconds\")"
      ],
      "execution_count": 57,
      "outputs": [
        {
          "output_type": "stream",
          "text": [
            "P(mean_temp|Sensor=[18., 18.7, 19.2, 17.8, 20.3, 22.4, 20.3, 21.2, 19.5, 20.1]) =\n",
            "Normal(loc: 19.3136043548584, scale: 0.6018604636192322)\n",
            "\n",
            "2.849658966064453 seconds\n"
          ],
          "name": "stdout"
        }
      ]
    },
    {
      "cell_type": "markdown",
      "metadata": {
        "id": "KaKd2JfHSGkv",
        "colab_type": "text"
      },
      "source": [
        "### <span style=\"color:red\">Exercise 1: </span>The role of *prior distributions* in learning\n",
        "\n",
        "In this case we just want to llustrate how the output of learning depends of the particular prior we introduce in the model. Play with different options and extract conclusions:\n",
        "\n",
        "1. What happens if we change the mean of the prior?\n",
        "2. What happens if we change the scale of the prior?\n",
        "3. What happens to the posterior if the number of data samples deacreases and increases?"
      ]
    },
    {
      "cell_type": "code",
      "metadata": {
        "id": "To_UlLPUSGkw",
        "colab_type": "code",
        "colab": {
          "base_uri": "https://localhost:8080/",
          "height": 52
        },
        "outputId": "cbb53746-efba-4549-c22e-6f70ecbdea1d"
      },
      "source": [
        "#The observatons   \n",
        "obs = {'sensor': torch.tensor([18., 18.7, 19.2, 17.8, 20.3, 22.4, 20.3, 21.2, 19.5, 20.1])}\n",
        "\n",
        "def model(obs):\n",
        "    mean_temp = pyro.sample('mean_temp', dist.Normal(.0, 2.0))\n",
        "    with pyro.plate('a', obs['sensor'].shape[0]):\n",
        "        temp = pyro.sample('temp', dist.Normal(mean_temp, 2.0))\n",
        "        sensor = pyro.sample('sensor', dist.Normal(temp, 1.0), obs=obs['sensor'])\n",
        "\n",
        "#Run inference\n",
        "svi(model, guide, obs, num_steps=1000)\n",
        "\n",
        "#Print results\n",
        "print(\"P(Temperature|Sensor=18.0) = \")\n",
        "print(dist.Normal(pyro.param(\"mean\").item(), pyro.param(\"scale\").item()))"
      ],
      "execution_count": 63,
      "outputs": [
        {
          "output_type": "stream",
          "text": [
            "P(Temperature|Sensor=18.0) = \n",
            "Normal(loc: 18.38689422607422, scale: 0.62226402759552)\n"
          ],
          "name": "stdout"
        }
      ]
    },
    {
      "cell_type": "code",
      "metadata": {
        "id": "JyvnVt7wjtii",
        "colab_type": "code",
        "colab": {}
      },
      "source": [
        ""
      ],
      "execution_count": 0,
      "outputs": []
    },
    {
      "cell_type": "markdown",
      "metadata": {
        "id": "Pcwh4uv3SGky",
        "colab_type": "text"
      },
      "source": [
        "# 4.  Icecream Shop\n",
        "\n",
        "Imagine we have an ice-cream shop and we record the ice-cream sales and the average temperature of the day (using a temperature sensor), because we know the temperature influences the sales. We want to precisely find out how temperature affects ice-cream sales. \n",
        "\n",
        "<img src=\"slides/Figures/Ice-cream_shop_-_Florida.jpg\" alt=\"Drawing\" style=\"width: 600px;\" >\n",
        "\n",
        "\n",
        "We assume that the daily sales follows a Poisson distribution, whose mean parameter linearly depends on the real temperature of the day. The coefficients of this linear relationship are modelled as random variables. \n"
      ]
    },
    {
      "cell_type": "code",
      "metadata": {
        "id": "NCUaIvtoSGky",
        "colab_type": "code",
        "colab": {}
      },
      "source": [
        "#The observatons   \n",
        "obs = {'sensor': torch.tensor([18., 18.7, 19.2, 17.8, 20.3, 22.4, 20.3, 21.2, 19.5, 20.1]),\n",
        "       'sales': torch.tensor([46., 47., 49., 44., 50., 54., 51., 52., 49., 53.])}\n",
        "\n",
        "def model(obs):\n",
        "    mean_temp = pyro.sample('mean_temp', dist.Normal(15.0, 2.0))\n",
        "    alpha = pyro.sample('alpha', dist.Normal(0.0, 100.0))\n",
        "    beta = pyro.sample('beta', dist.Normal(0.0, 100.0))\n",
        "\n",
        "    with pyro.plate('a', obs['sensor'].shape[0]):\n",
        "        temp = pyro.sample('temp', dist.Normal(mean_temp, 2.0))\n",
        "        sensor = pyro.sample('sensor', dist.Normal(temp, 1.0), obs=obs['sensor'])\n",
        "        rate = torch.max(torch.tensor(0.001), alpha + beta*temp)\n",
        "        sales = pyro.sample('sales', dist.Poisson(rate), obs=obs['sales'])"
      ],
      "execution_count": 0,
      "outputs": []
    },
    {
      "cell_type": "code",
      "metadata": {
        "id": "_FeK7DG_SGk2",
        "colab_type": "code",
        "colab": {}
      },
      "source": [
        "#Define the guide\n",
        "def guide(obs):\n",
        "    mean = pyro.param(\"mean\", torch.mean(obs['sensor']))\n",
        "    scale = pyro.param(\"scale\", torch.tensor(1.), constraint=constraints.positive)\n",
        "    mean_temp = pyro.sample('mean_temp', dist.Normal(mean, scale))\n",
        "\n",
        "    alpha_mean = pyro.param(\"alpha_mean\", torch.mean(obs['sensor']))\n",
        "    alpha_scale = pyro.param(\"alpha_scale\", torch.tensor(1.), constraint=constraints.positive)\n",
        "    alpha = pyro.sample('alpha', dist.Normal(alpha_mean, alpha_scale))\n",
        "\n",
        "    beta_mean = pyro.param(\"beta_mean\", torch.tensor(1.0))\n",
        "    beta_scale = pyro.param(\"beta_scale\", torch.tensor(1.), constraint=constraints.positive)\n",
        "    beta = pyro.sample('beta', dist.Normal(beta_mean, beta_scale))\n",
        "\n",
        "    with pyro.plate('a', obs['sensor'].shape[0]) as i:\n",
        "        mean_i = pyro.param('mean_i', obs['sensor'][i])\n",
        "        scale_i = pyro.param('scale_i', torch.tensor(1.), constraint=constraints.positive)\n",
        "        temp = pyro.sample('temp', dist.Normal(mean_i, scale_i))  "
      ],
      "execution_count": 0,
      "outputs": []
    },
    {
      "cell_type": "code",
      "metadata": {
        "id": "-rhHHDwZSGk5",
        "colab_type": "code",
        "colab": {},
        "outputId": "29c86d02-eb55-4713-dcd9-566f31da5a82"
      },
      "source": [
        "#Run inference\n",
        "svi(model, guide, obs, num_steps=1000)\n",
        "\n",
        "#Print results    \n",
        "print(\"Posterior Temperature Mean\")\n",
        "print(dist.Normal(pyro.param(\"mean\").item(), pyro.param(\"scale\").item()))\n",
        "print(\"\")\n",
        "print(\"Posterior Alpha\")\n",
        "print(dist.Normal(pyro.param(\"alpha_mean\").item(), pyro.param(\"alpha_scale\").item()))\n",
        "print(\"\")\n",
        "print(\"Posterior Beta\")\n",
        "print(dist.Normal(pyro.param(\"beta_mean\").item(), pyro.param(\"beta_scale\").item()))"
      ],
      "execution_count": 0,
      "outputs": [
        {
          "output_type": "stream",
          "text": [
            "Posterior Temperature Mean\n",
            "Normal(loc: 19.301464080810547, scale: 0.6544582843780518)\n",
            "\n",
            "Posterior Alpha\n",
            "Normal(loc: 19.772266387939453, scale: 1.8522547483444214)\n",
            "\n",
            "Posterior Beta\n",
            "Normal(loc: 1.5032116174697876, scale: 0.11939140409231186)\n"
          ],
          "name": "stdout"
        }
      ]
    },
    {
      "cell_type": "markdown",
      "metadata": {
        "id": "5xZItW78SGk9",
        "colab_type": "text"
      },
      "source": [
        "### <span style=\"color:red\">Exercise 2: </span> \n",
        "\n",
        "Assume we also have a bunch of humidity senor measurements of the real humidity in the air, which is unknown. Then, assume the sales are also linearly influenced by the humidity. Extend the above model in order to integrate all of that.\n"
      ]
    },
    {
      "cell_type": "code",
      "metadata": {
        "id": "e7_3J8C-SGk-",
        "colab_type": "code",
        "colab": {},
        "outputId": "a22312b0-c8e1-4cc7-fe5a-3e9f8d5edfe7"
      },
      "source": [
        "#The observatons   \n",
        "obs = {'sensor': torch.tensor([18., 18.7, 19.2, 17.8, 20.3, 22.4, 20.3, 21.2, 19.5, 20.1]),\n",
        "       'sales': torch.tensor([46., 47., 49., 44., 50., 54., 51., 52., 49., 53.]),\n",
        "       'sensor_humidity': torch.tensor([82.8, 87.6, 69.1, 74.2, 80.3, 94.2, 91.2, 92.2, 99.1, 93.2])}\n",
        "\n",
        "\n",
        "def model(obs):\n",
        "    mean_temp = pyro.sample('mean_temp', dist.Normal(15.0, 2.0))\n",
        "    ## Introduce a random variable \"humidity_mean\"\n",
        "\n",
        "    alpha = pyro.sample('alpha', dist.Normal(0.0, 100.0))\n",
        "    beta = pyro.sample('beta', dist.Normal(0.0, 100.0))\n",
        "    \n",
        "    ## Introduce a coefficient for the humidity \"gamma\"\n",
        "\n",
        "    with pyro.plate('a', obs['sensor'].shape[0]):\n",
        "        temp = pyro.sample('temp', dist.Normal(mean_temp, 2.0))\n",
        "        sensor = pyro.sample('sensor', dist.Normal(temp, 1.0), obs=obs['sensor'])\n",
        "        #Add the 'humidity' variable and the 'sensor_humidity' variable\n",
        "        \n",
        "        #Add the linear dependency of humidity\n",
        "        sales = pyro.sample('sales', dist.Poisson(????), obs=obs['sales'])"
      ],
      "execution_count": 0,
      "outputs": [
        {
          "output_type": "error",
          "ename": "SyntaxError",
          "evalue": "invalid syntax (<ipython-input-64-451a143bbb04>, line 22)",
          "traceback": [
            "\u001b[0;36m  File \u001b[0;32m\"<ipython-input-64-451a143bbb04>\"\u001b[0;36m, line \u001b[0;32m22\u001b[0m\n\u001b[0;31m    sales = pyro.sample('sales', dist.Poisson(????), obs=obs['sales'])\u001b[0m\n\u001b[0m                                              ^\u001b[0m\n\u001b[0;31mSyntaxError\u001b[0m\u001b[0;31m:\u001b[0m invalid syntax\n"
          ]
        }
      ]
    },
    {
      "cell_type": "code",
      "metadata": {
        "id": "CifUFrs8SGlE",
        "colab_type": "code",
        "colab": {}
      },
      "source": [
        "#Auxiliary Guide Code\n",
        "def guide(obs):\n",
        "    mean = pyro.param(\"mean\", torch.mean(obs['sensor']))\n",
        "    scale = pyro.param(\"scale\", torch.tensor(1.), constraint=constraints.positive)\n",
        "    mean_temp = pyro.sample('mean_temp', dist.Normal(mean, scale))\n",
        "\n",
        "    meanH = pyro.param(\"meanH\", torch.mean(obs['sensor_humidity']))\n",
        "    scaleH = pyro.param(\"scaleH\", torch.tensor(1.), constraint=constraints.positive)\n",
        "    humidity_mean = pyro.sample('humidity_mean', dist.Normal(meanH, scaleH))\n",
        "\n",
        "\n",
        "    alpha_mean = pyro.param(\"alpha_mean\", torch.mean(obs['sensor']), constraint=constraints.positive)\n",
        "    alpha_scale = pyro.param(\"alpha_scale\", torch.tensor(1.), constraint=constraints.positive)\n",
        "    alpha = pyro.sample('alpha', dist.Normal(alpha_mean, alpha_scale))\n",
        "\n",
        "    beta_mean = pyro.param(\"beta_mean\", torch.tensor(1.0), constraint=constraints.positive)\n",
        "    beta_scale = pyro.param(\"beta_scale\", torch.tensor(1.), constraint=constraints.positive)\n",
        "    beta = pyro.sample('beta', dist.Normal(beta_mean, beta_scale))\n",
        "\n",
        "    gamma_mean = pyro.param(\"gamma_mean\", torch.tensor(1.0), constraint=constraints.positive)\n",
        "    gamma_scale = pyro.param(\"gamma_scale\", torch.tensor(1.), constraint=constraints.positive)\n",
        "    gamma = pyro.sample('gamma', dist.Normal(gamma_mean, gamma_scale))\n",
        "\n",
        "    with pyro.plate('a', obs['sensor'].shape[0]) as i:\n",
        "        mean_i = pyro.param('mean_i', obs['sensor'][i])\n",
        "        scale_i = pyro.param('scale_i', torch.tensor(1.), constraint=constraints.positive)\n",
        "        temp = pyro.sample('temp', dist.Normal(mean_i, scale_i))\n",
        "        meanH_i = pyro.param('meanH_i', obs['sensor_humidity'][i])\n",
        "        scaleH_i = pyro.param('scaleH_i', torch.tensor(1.), constraint=constraints.positive)\n",
        "        humidity = pyro.sample('humidity', dist.Normal(meanH_i, scaleH_i)) "
      ],
      "execution_count": 0,
      "outputs": []
    },
    {
      "cell_type": "code",
      "metadata": {
        "id": "teq3om4USGlG",
        "colab_type": "code",
        "colab": {}
      },
      "source": [
        "#Run inference\n",
        "svi(model, guide, obs, num_steps=1000)\n",
        "\n",
        "#Print results    \n",
        "print(\"Posterior Temperature Mean\")\n",
        "print(dist.Normal(pyro.param(\"mean\").item(), pyro.param(\"scale\").item()))\n",
        "print(\"\")\n",
        "print(\"Posterior Humidity Mean\")\n",
        "print(dist.Normal(pyro.param(\"meanH\").item(), pyro.param(\"scaleH\").item()))\n",
        "print(\"\")\n",
        "print(\"Posterior Alpha\")\n",
        "print(dist.Normal(pyro.param(\"alpha_mean\").item(), pyro.param(\"alpha_scale\").item()))\n",
        "print(\"\")\n",
        "print(\"Posterior Beta\")\n",
        "print(dist.Normal(pyro.param(\"beta_mean\").item(), pyro.param(\"beta_scale\").item()))\n",
        "print(\"\")\n",
        "print(\"Posterior Gamma\")\n",
        "print(dist.Normal(pyro.param(\"gamma_mean\").item(), pyro.param(\"gamma_scale\").item()))"
      ],
      "execution_count": 0,
      "outputs": []
    },
    {
      "cell_type": "markdown",
      "metadata": {
        "id": "MwAv2YAYSGlH",
        "colab_type": "text"
      },
      "source": [
        "# 4.  Temporal Models\n",
        "\n",
        "If we think there is a temporal dependency between the variables, we can encode that easily with PPLs. \n",
        "\n",
        "Let's go back to our temperature-sensor model. Now, we assume that the real temperature must be similar to the real temperature in the previous time step. This temporal dependency can easily model as follows using a ``for-loop``. A graphical representation would be as follows,\n",
        "\n",
        "<img src=\"slides/Figures/tempmodel-temporal-III.png\" alt=\"Drawing\" style=\"width: 350px;\" >\n",
        "\n"
      ]
    },
    {
      "cell_type": "code",
      "metadata": {
        "id": "q7Hht7twSGlI",
        "colab_type": "code",
        "colab": {}
      },
      "source": [
        "#The observatons   \n",
        "obs = {'sensor': torch.tensor([18., 18.7, 19.2, 17.8, 20.3, 22.4, 20.3, 21.2, 19.5, 20.1])}\n",
        "\n",
        "def model(obs):\n",
        "    mean_temp = pyro.sample('mean_temp', dist.Normal(15.0, 2.0))\n",
        "    for i in range(obs['sensor'].shape[0]):\n",
        "        if i==0:\n",
        "            temp = pyro.sample(f'temp_{i}', dist.Normal(mean_temp, 2.0))\n",
        "        else:\n",
        "            temp = pyro.sample(f'temp_{i}', dist.Normal(prev_temp, 2.0))\n",
        "        sensor = pyro.sample(f'sensor_{i}', dist.Normal(temp, 1.0), obs=obs['sensor'][i])\n",
        "        prev_temp = temp"
      ],
      "execution_count": 0,
      "outputs": []
    },
    {
      "cell_type": "code",
      "metadata": {
        "id": "4ZAXe54kSGlK",
        "colab_type": "code",
        "colab": {}
      },
      "source": [
        "#Define the guide\n",
        "def guide(obs):\n",
        "    mean = pyro.param(\"mean\", torch.mean(obs['sensor']))\n",
        "    scale = pyro.param(\"scale\", torch.tensor(1.), constraint=constraints.positive)\n",
        "    mean_temp = pyro.sample('mean_temp', dist.Normal(mean, scale))\n",
        "    for i in range(obs['sensor'].shape[0]):\n",
        "        mean_i = pyro.param(f'mean_{i}', obs['sensor'][i])\n",
        "        scale_i = pyro.param(f'scale_{i}', torch.tensor(1.), constraint=constraints.positive)\n",
        "        temp = pyro.sample(f'temp_{i}', dist.Normal(mean_i, scale_i))"
      ],
      "execution_count": 0,
      "outputs": []
    },
    {
      "cell_type": "code",
      "metadata": {
        "id": "ktfebaIvSGlM",
        "colab_type": "code",
        "colab": {},
        "outputId": "d20efd0d-98bf-48bd-cf0d-fdb65fe8335f"
      },
      "source": [
        "import time\n",
        "        \n",
        "#Run inference\n",
        "svi(model, guide, obs, num_steps=2000)\n",
        "\n",
        "smooth_temp=[]\n",
        "for i in range(obs['sensor'].shape[0]):\n",
        "    smooth_temp.append(pyro.param(f'mean_{i}').item())\n",
        "\n",
        "print('Finished')"
      ],
      "execution_count": 0,
      "outputs": [
        {
          "output_type": "stream",
          "text": [
            "Finished\n"
          ],
          "name": "stdout"
        }
      ]
    },
    {
      "cell_type": "markdown",
      "metadata": {
        "id": "crtf-asvSGlP",
        "colab_type": "text"
      },
      "source": [
        "Now we can plot the observered measurements of the temperature against the inferred real temperature by our model. We can see like the *recovered* temperature is much less noisy than the real one. "
      ]
    },
    {
      "cell_type": "code",
      "metadata": {
        "id": "kEw0yrcgSGlP",
        "colab_type": "code",
        "colab": {},
        "outputId": "78a5e03d-72a1-48ca-e32c-ae254e92c807"
      },
      "source": [
        "import matplotlib.pyplot as plt\n",
        "plt.plot([18., 18.7, 19.2, 17.8, 20.3, 22.4, 20.3, 21.2, 19.5, 20.1], label='Sensor Temp')\n",
        "plt.plot(smooth_temp, label='Smooth Temp')\n",
        "plt.legend()"
      ],
      "execution_count": 0,
      "outputs": [
        {
          "output_type": "execute_result",
          "data": {
            "text/plain": [
              "<matplotlib.legend.Legend at 0x1192d1390>"
            ]
          },
          "metadata": {
            "tags": []
          },
          "execution_count": 70
        },
        {
          "output_type": "display_data",
          "data": {
            "image/png": "[encoded data removed]",
            "text/plain": [
              "<Figure size 432x288 with 1 Axes>"
            ]
          },
          "metadata": {
            "tags": []
          }
        }
      ]
    },
    {
      "cell_type": "markdown",
      "metadata": {
        "id": "VIskK_3pSGlR",
        "colab_type": "text"
      },
      "source": [
        "### <span style=\"color:red\">Exercise 3: </span> \n",
        "\n",
        "Extends Excersise 2 by linking temporally the humidity measurements. Use the following graphical representation for reference, but consider here that the plate representation has to be coded in Pyro using a ``for-loop``.\n",
        "\n",
        "\n",
        "<img src=\"slides/Figures/icecream-model-temporal.png\" alt=\"Drawing\" style=\"width: 550px;\" >\n",
        "\n",
        "\n"
      ]
    },
    {
      "cell_type": "code",
      "metadata": {
        "id": "kkym04FwSGlR",
        "colab_type": "code",
        "colab": {}
      },
      "source": [
        "#The observatons   \n",
        "obs = {'sensor': torch.tensor([18., 18.7, 19.2, 17.8, 20.3, 22.4, 20.3, 21.2, 19.5, 20.1]),\n",
        "       'sales': torch.tensor([46., 47., 49., 44., 50., 54., 51., 52., 49., 53.]),\n",
        "       'sensor_humidity': torch.tensor([82.8, 87.6, 69.1, 74.2, 80.3, 94.2, 91.2, 92.2, 99.1, 93.2])/10.}\n",
        "\n",
        "\n",
        "\n",
        "def model(obs):\n",
        "    mean_temp = pyro.sample('mean_temp', dist.Normal(15.0, 2.0))\n",
        "    ## Introduce a random variable \"mean_humidity\"\n",
        "\n",
        "\n",
        "    alpha = pyro.sample('alpha', dist.Normal(0.0, 100.0))\n",
        "    beta = pyro.sample('beta', dist.Normal(0.0, 100.0))\n",
        "    ## Introduce a coefficient for the humidity \"gamma\"\n",
        "\n",
        "    for i in range(obs['sensor'].shape[0]):\n",
        "        if i==0:\n",
        "            temp = pyro.sample(f'temp_{i}', dist.Normal(mean_temp, 2.0))\n",
        "            #Introduce the 'humidity' variable at time 0.\n",
        "        else:\n",
        "            temp = pyro.sample(f'temp_{i}', dist.Normal(prev_temp, 2.0))\n",
        "            #Introduce the f'humidity_{i}' variable defining the transition\n",
        "            \n",
        "        sensor = pyro.sample(f'sensor_{i}', dist.Normal(temp, 1.0), obs=obs['sensor'][i])\n",
        "        #Introduce the f'sensor_humidity_{i}' variable. \n",
        "\n",
        "        sales = pyro.sample(f'sales_{i}', dist.Poisson(?????), obs=obs['sales'][i])\n",
        "        prev_temp = temp\n",
        "        #Keep humidity for the next time step. \n"
      ],
      "execution_count": 0,
      "outputs": []
    },
    {
      "cell_type": "code",
      "metadata": {
        "id": "Y5Dnc3QzSGlW",
        "colab_type": "code",
        "colab": {}
      },
      "source": [
        "#Define the guide\n",
        "def guide(obs):\n",
        "    mean = pyro.param(\"mean\", torch.mean(obs['sensor']))\n",
        "    scale = pyro.param(\"scale\", torch.tensor(1.), constraint=constraints.positive)\n",
        "    mean_temp = pyro.sample('mean_temp', dist.Normal(mean, scale))\n",
        "\n",
        "    meanH = pyro.param(\"meanH\", torch.mean(obs['sensor_humidity']), constraint=constraints.positive)\n",
        "    scaleH = pyro.param(\"scaleH\", torch.tensor(1.), constraint=constraints.greater_than(0.01))\n",
        "    humidity_mean = pyro.sample('mean_humidity', dist.Normal(meanH, scaleH))\n",
        "\n",
        "\n",
        "    alpha_mean = pyro.param(\"alpha_mean\", torch.mean(obs['sensor']))\n",
        "    alpha_scale = pyro.param(\"alpha_scale\", torch.tensor(1.), constraint=constraints.positive)\n",
        "    alpha = pyro.sample('alpha', dist.Normal(alpha_mean, alpha_scale))\n",
        "\n",
        "    beta_mean = pyro.param(\"beta_mean\", torch.tensor(0.0))\n",
        "    beta_scale = pyro.param(\"beta_scale\", torch.tensor(1.), constraint=constraints.positive)\n",
        "    beta = pyro.sample('beta', dist.Normal(beta_mean, beta_scale))\n",
        "\n",
        "    gamma_mean = pyro.param(\"gamma_mean\", torch.tensor(0.0))\n",
        "    gamma_scale = pyro.param(\"gamma_scale\", torch.tensor(1.), constraint=constraints.positive)\n",
        "    gamma = pyro.sample('gamma', dist.Normal(gamma_mean, gamma_scale))\n",
        "\n",
        "    for i in range(obs['sensor'].shape[0]):\n",
        "        mean_i = pyro.param(f'mean_{i}', obs['sensor'][i])\n",
        "        scale_i = pyro.param(f'scale_{i}', torch.tensor(1.), constraint=constraints.positive)\n",
        "        temp = pyro.sample(f'temp_{i}', dist.Normal(mean_i, scale_i))\n",
        "        meanH_i = pyro.param(f'meanH_{i}', obs['sensor_humidity'][i])\n",
        "        scaleH_i = pyro.param(f'scaleH_{i}', torch.tensor(1.), constraint=constraints.positive)\n",
        "        humidity_i = pyro.sample(f'humidity_{i}', dist.Normal(meanH_i, scaleH_i))"
      ],
      "execution_count": 0,
      "outputs": []
    },
    {
      "cell_type": "code",
      "metadata": {
        "id": "ankv073jSGlX",
        "colab_type": "code",
        "colab": {}
      },
      "source": [
        "import time\n",
        "        \n",
        "#Run inference\n",
        "svi(model, guide, obs, num_steps=2000)\n",
        "\n",
        "smooth_temp=[]\n",
        "smooth_humidity=[]\n",
        "\n",
        "for i in range(obs['sensor'].shape[0]):\n",
        "    smooth_temp.append(pyro.param(f'mean_{i}').item())\n",
        "    smooth_humidity.append(pyro.param(f'meanH_{i}').item())\n",
        "\n",
        "\n",
        "print('Finished')"
      ],
      "execution_count": 0,
      "outputs": []
    },
    {
      "cell_type": "code",
      "metadata": {
        "id": "yygVDgVwSGlZ",
        "colab_type": "code",
        "colab": {}
      },
      "source": [
        "plt.plot([18., 18.7, 19.2, 17.8, 20.3, 22.4, 20.3, 21.2, 19.5, 20.1], label='Sensor Temp')\n",
        "plt.plot(smooth_temp, label='Smooth Temp')\n",
        "plt.legend()"
      ],
      "execution_count": 0,
      "outputs": []
    },
    {
      "cell_type": "code",
      "metadata": {
        "id": "lgE3vO84SGla",
        "colab_type": "code",
        "colab": {}
      },
      "source": [
        "humidity = torch.tensor([82.8, 87.6, 69.1, 74.2, 80.3, 94.2, 91.2, 92.2, 99.1, 93.2])/10.\n",
        "plt.plot(humidity.detach().numpy(), label='Sensor Humidity')\n",
        "plt.plot(smooth_humidity, label='Smooth Humidity')\n",
        "plt.legend()"
      ],
      "execution_count": 0,
      "outputs": []
    },
    {
      "cell_type": "code",
      "metadata": {
        "id": "wnkmTDV_SGlc",
        "colab_type": "code",
        "colab": {}
      },
      "source": [
        ""
      ],
      "execution_count": 0,
      "outputs": []
    },
    {
      "cell_type": "markdown",
      "metadata": {
        "id": "BvpN76gTSwy0",
        "colab_type": "text"
      },
      "source": [
        ""
      ]
    }
  ]
}